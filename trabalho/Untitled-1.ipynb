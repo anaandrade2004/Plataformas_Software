{
 "cells": [
  {
   "cell_type": "code",
   "execution_count": null,
   "metadata": {},
   "outputs": [
    {
     "ename": "",
     "evalue": "",
     "output_type": "error",
     "traceback": [
      "\u001b[1;31mRunning cells with 'Python 3.11.3' requires the ipykernel package.\n",
      "\u001b[1;31mRun the following command to install 'ipykernel' into the Python environment. \n",
      "\u001b[1;31mCommand: 'c:/Users/Utilizador/AppData/Local/Programs/Python/Python311/python.exe -m pip install ipykernel -U --user --force-reinstall'"
     ]
    }
   ],
   "source": [
    "from collections import Counter\n",
    "\n",
    "# Function to count characters in a text file\n",
    "def count_characters_in_file(file_path):\n",
    "    try:\n",
    "        # Open the file in read mode\n",
    "        with open(file_path, 'r') as file:\n",
    "            # Read the content of the file\n",
    "            text = file.read()\n",
    "            \n",
    "            # Count the occurrences of each character using Counter\n",
    "            character_count = Counter(text)\n",
    "            \n",
    "            # Return the character count\n",
    "            return character_count\n",
    "            \n",
    "    except FileNotFoundError:\n",
    "        print(f\"Error: The file at '{file_path}' was not found.\")\n",
    "        return None\n",
    "\n",
    "# Example usage\n",
    "file_path = 'dna_100.txt'  # Replace with your file path\n",
    "character_count = count_characters_in_file(file_path)\n",
    "\n",
    "if character_count:\n",
    "    print(\"Character count in the file:\")\n",
    "    for char, count in character_count.items():\n",
    "        print(f\"'{char}': {count}\")\n"
   ]
  },
  {
   "cell_type": "code",
   "execution_count": 8,
   "metadata": {},
   "outputs": [
    {
     "name": "stdout",
     "output_type": "stream",
     "text": [
      "contador de A 50228\n",
      "contador de C 50326\n",
      "contador de G 49779\n",
      "contador de T 49666\n"
     ]
    }
   ],
   "source": [
    "countA=0\n",
    "countC=0\n",
    "countG=0\n",
    "countT=0\n",
    "\n",
    "for i in dna:\n",
    "    if i == \"U\":\n",
    "        countA+=1\n",
    "    elif i ==\"G\":\n",
    "        countC+=1\n",
    "    elif i ==\"C\":\n",
    "        countG+=1\n",
    "    elif i ==\"A\":\n",
    "        countT+=1\n",
    "\n",
    "print(\"contador de A\", countA)\n",
    "print(\"contador de C\", countC)\n",
    "print(\"contador de G\", countG)\n",
    "print(\"contador de T\", countT)\n",
    "\n",
    "\n",
    "    "
   ]
  }
 ],
 "metadata": {
  "kernelspec": {
   "display_name": "Python 3",
   "language": "python",
   "name": "python3"
  },
  "language_info": {
   "codemirror_mode": {
    "name": "ipython",
    "version": 3
   },
   "file_extension": ".py",
   "mimetype": "text/x-python",
   "name": "python",
   "nbconvert_exporter": "python",
   "pygments_lexer": "ipython3",
   "version": "3.11.3"
  }
 },
 "nbformat": 4,
 "nbformat_minor": 2
}
